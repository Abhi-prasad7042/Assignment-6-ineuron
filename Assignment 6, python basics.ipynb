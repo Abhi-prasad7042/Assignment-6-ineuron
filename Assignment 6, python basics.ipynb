{
 "cells": [
  {
   "cell_type": "markdown",
   "id": "b9722767",
   "metadata": {},
   "source": [
    "### Question1\n",
    "\n",
    "What are escape characters, and how do you use them?\n",
    "\n",
    "### Answer:-\n",
    "\n",
    "Escape characters are those characters which is used insert those characters which is not acceptable in string. An escape characters starts with backslash, Like we want a double quotes in a character in our string we should srround that charcater with backslash. "
   ]
  },
  {
   "cell_type": "code",
   "execution_count": 1,
   "id": "5eeae883",
   "metadata": {},
   "outputs": [
    {
     "data": {
      "text/plain": [
       "'He is the man of \"words\" '"
      ]
     },
     "execution_count": 1,
     "metadata": {},
     "output_type": "execute_result"
    }
   ],
   "source": [
    "# s = \"He is the man of \"words\" \" // this will give error\n",
    "\n",
    "s = \"He is the man of \\\"words\\\" \"\n",
    "s"
   ]
  },
  {
   "cell_type": "markdown",
   "id": "19748ff7",
   "metadata": {},
   "source": [
    "### Question2\n",
    "\n",
    "What do the escape characters n and t stand for?\n",
    "\n",
    "### Answer:-\n",
    "\n",
    "The escape character n stands for new line syntax of this is \\n and t stands for `Tab` syntax is \\t"
   ]
  },
  {
   "cell_type": "markdown",
   "id": "05c0272a",
   "metadata": {},
   "source": [
    "### Question3\n",
    "\n",
    "What is the way to include backslash characters in a string?\n",
    "\n",
    "### Answer:-\n",
    "\n",
    "We can use double backslash to inclue a backslash in a string."
   ]
  },
  {
   "cell_type": "code",
   "execution_count": 2,
   "id": "d35e3b5e",
   "metadata": {},
   "outputs": [
    {
     "name": "stdout",
     "output_type": "stream",
     "text": [
      "This is \\backslash\n"
     ]
    }
   ],
   "source": [
    "s = \"This is \\\\backslash\"\n",
    "print(s)"
   ]
  },
  {
   "cell_type": "markdown",
   "id": "c04c2649",
   "metadata": {},
   "source": [
    "### Question4\n",
    "\n",
    "The string \"howl's Moving Castle\" is a correct value. Why isn't the single quote character in the word Howl's not excaped a problem?\n",
    "\n",
    "### Answer:-\n",
    "\n",
    "Because here we use double quotes, we start with duble quote and end with double quote and inside we used single quote that's why it didn't gave error"
   ]
  },
  {
   "cell_type": "markdown",
   "id": "9d462531",
   "metadata": {},
   "source": [
    "### Question5\n",
    "\n",
    "How do you write a string of newlines if you don't want to use the n character?\n",
    "\n",
    "### Answer:- \n",
    "\n",
    "Multiline strings allow us new line without using \\n."
   ]
  },
  {
   "cell_type": "markdown",
   "id": "907f902d",
   "metadata": {},
   "source": [
    "### Question6\n",
    "\n",
    "What are the values of the given expressions?\n",
    "\n",
    "'Hello, world!'[1]\n",
    "\n",
    "'Hello, world!'[0:5]\n",
    "\n",
    "'Hello, world!'[:5]\n",
    "\n",
    "'Hello, world!'[3:]\n",
    "\n",
    "### Answer:-"
   ]
  },
  {
   "cell_type": "code",
   "execution_count": 3,
   "id": "1f109730",
   "metadata": {},
   "outputs": [
    {
     "data": {
      "text/plain": [
       "'e'"
      ]
     },
     "execution_count": 3,
     "metadata": {},
     "output_type": "execute_result"
    }
   ],
   "source": [
    "'Hello, world!'[1]"
   ]
  },
  {
   "cell_type": "code",
   "execution_count": 4,
   "id": "7dc44598",
   "metadata": {},
   "outputs": [
    {
     "data": {
      "text/plain": [
       "'Hello'"
      ]
     },
     "execution_count": 4,
     "metadata": {},
     "output_type": "execute_result"
    }
   ],
   "source": [
    "'Hello, world!'[0:5]"
   ]
  },
  {
   "cell_type": "code",
   "execution_count": 5,
   "id": "b6a7e808",
   "metadata": {},
   "outputs": [
    {
     "data": {
      "text/plain": [
       "'Hello'"
      ]
     },
     "execution_count": 5,
     "metadata": {},
     "output_type": "execute_result"
    }
   ],
   "source": [
    "'Hello, world!'[:5]"
   ]
  },
  {
   "cell_type": "code",
   "execution_count": 6,
   "id": "61b78971",
   "metadata": {},
   "outputs": [
    {
     "data": {
      "text/plain": [
       "'lo, world!'"
      ]
     },
     "execution_count": 6,
     "metadata": {},
     "output_type": "execute_result"
    }
   ],
   "source": [
    "'Hello, world!'[3:]"
   ]
  },
  {
   "cell_type": "markdown",
   "id": "dabec4b0",
   "metadata": {},
   "source": [
    "### Question7\n",
    "\n",
    "What are the values of the following expressions?\n",
    "\n",
    "'Hello'.upper()\n",
    "\n",
    "'Hello'.upper().isupper()\n",
    "\n",
    "'Hello'.upper().lower()\n",
    "\n",
    "### Answer:-"
   ]
  },
  {
   "cell_type": "code",
   "execution_count": 7,
   "id": "9e778553",
   "metadata": {},
   "outputs": [
    {
     "data": {
      "text/plain": [
       "'HELLO'"
      ]
     },
     "execution_count": 7,
     "metadata": {},
     "output_type": "execute_result"
    }
   ],
   "source": [
    "'Hello'.upper()"
   ]
  },
  {
   "cell_type": "code",
   "execution_count": 8,
   "id": "99e4c467",
   "metadata": {},
   "outputs": [
    {
     "data": {
      "text/plain": [
       "True"
      ]
     },
     "execution_count": 8,
     "metadata": {},
     "output_type": "execute_result"
    }
   ],
   "source": [
    "'Hello'.upper().isupper()"
   ]
  },
  {
   "cell_type": "code",
   "execution_count": 9,
   "id": "5c8f1a95",
   "metadata": {},
   "outputs": [
    {
     "data": {
      "text/plain": [
       "'hello'"
      ]
     },
     "execution_count": 9,
     "metadata": {},
     "output_type": "execute_result"
    }
   ],
   "source": [
    "'Hello'.upper().lower()"
   ]
  },
  {
   "cell_type": "markdown",
   "id": "3e470346",
   "metadata": {},
   "source": [
    "### Question8\n",
    "\n",
    "What are the values of the following expressions?\n",
    "\n",
    "'Remember, remember, the fifth of july'.split()\n",
    "\n",
    "'-'.join('There can only one.'.split())\n",
    "\n",
    "### Answer:-"
   ]
  },
  {
   "cell_type": "code",
   "execution_count": 10,
   "id": "47441d9d",
   "metadata": {},
   "outputs": [
    {
     "data": {
      "text/plain": [
       "['Remember,', 'remember,', 'the', 'fifth', 'of', 'july']"
      ]
     },
     "execution_count": 10,
     "metadata": {},
     "output_type": "execute_result"
    }
   ],
   "source": [
    "'Remember, remember, the fifth of july'.split()"
   ]
  },
  {
   "cell_type": "code",
   "execution_count": 11,
   "id": "34623ec9",
   "metadata": {},
   "outputs": [
    {
     "data": {
      "text/plain": [
       "'There-can-only-one.'"
      ]
     },
     "execution_count": 11,
     "metadata": {},
     "output_type": "execute_result"
    }
   ],
   "source": [
    "'-'.join('There can only one.'.split())"
   ]
  },
  {
   "cell_type": "markdown",
   "id": "cf0c63f3",
   "metadata": {},
   "source": [
    "### Question9\n",
    "\n",
    "What are the methods for right-justifying, left-justifying, and centering a string?\n",
    "\n",
    "### Answer:- \n",
    "\n",
    "Methods are  for this is  rjust(), ljust(), and center()."
   ]
  },
  {
   "cell_type": "markdown",
   "id": "292f7412",
   "metadata": {},
   "source": [
    "### Question10\n",
    "\n",
    "What is the best way to remove whitespace characters from the start and end?\n",
    "\n",
    "### Answer:- \n",
    "\n",
    "The lstrip() and rstrip() is the best way to remove whitespace."
   ]
  },
  {
   "cell_type": "code",
   "execution_count": 12,
   "id": "75459537",
   "metadata": {},
   "outputs": [],
   "source": [
    "s = \"    hello    \""
   ]
  },
  {
   "cell_type": "code",
   "execution_count": 13,
   "id": "402a9c7e",
   "metadata": {},
   "outputs": [
    {
     "data": {
      "text/plain": [
       "'hello    '"
      ]
     },
     "execution_count": 13,
     "metadata": {},
     "output_type": "execute_result"
    }
   ],
   "source": [
    "s.lstrip()"
   ]
  },
  {
   "cell_type": "code",
   "execution_count": 14,
   "id": "93353eb1",
   "metadata": {},
   "outputs": [
    {
     "data": {
      "text/plain": [
       "'    hello'"
      ]
     },
     "execution_count": 14,
     "metadata": {},
     "output_type": "execute_result"
    }
   ],
   "source": [
    "s.rstrip()"
   ]
  },
  {
   "cell_type": "code",
   "execution_count": null,
   "id": "ecd53842",
   "metadata": {},
   "outputs": [],
   "source": []
  }
 ],
 "metadata": {
  "kernelspec": {
   "display_name": "Python 3 (ipykernel)",
   "language": "python",
   "name": "python3"
  },
  "language_info": {
   "codemirror_mode": {
    "name": "ipython",
    "version": 3
   },
   "file_extension": ".py",
   "mimetype": "text/x-python",
   "name": "python",
   "nbconvert_exporter": "python",
   "pygments_lexer": "ipython3",
   "version": "3.8.11"
  }
 },
 "nbformat": 4,
 "nbformat_minor": 5
}
